{
 "cells": [
  {
   "cell_type": "code",
   "execution_count": 36,
   "id": "16c7fc89",
   "metadata": {},
   "outputs": [],
   "source": [
    "import pandas as pd\n",
    "import numpy as np\n",
    "from matplotlib import pyplot as plt\n",
    "%matplotlib inline"
   ]
  },
  {
   "cell_type": "code",
   "execution_count": null,
   "id": "f5011104",
   "metadata": {},
   "outputs": [],
   "source": []
  },
  {
   "cell_type": "code",
   "execution_count": 37,
   "id": "c608aa7b",
   "metadata": {},
   "outputs": [],
   "source": [
    "df = pd.read_csv(\"data/New_data.csv\") #our data"
   ]
  },
  {
   "cell_type": "code",
   "execution_count": 38,
   "id": "1c0cb081",
   "metadata": {},
   "outputs": [
    {
     "data": {
      "text/html": [
       "<div>\n",
       "<style scoped>\n",
       "    .dataframe tbody tr th:only-of-type {\n",
       "        vertical-align: middle;\n",
       "    }\n",
       "\n",
       "    .dataframe tbody tr th {\n",
       "        vertical-align: top;\n",
       "    }\n",
       "\n",
       "    .dataframe thead th {\n",
       "        text-align: right;\n",
       "    }\n",
       "</style>\n",
       "<table border=\"1\" class=\"dataframe\">\n",
       "  <thead>\n",
       "    <tr style=\"text-align: right;\">\n",
       "      <th></th>\n",
       "      <th>size</th>\n",
       "      <th>Area</th>\n",
       "      <th>price</th>\n",
       "    </tr>\n",
       "  </thead>\n",
       "  <tbody>\n",
       "    <tr>\n",
       "      <th>0</th>\n",
       "      <td>2</td>\n",
       "      <td>1056</td>\n",
       "      <td>39.07</td>\n",
       "    </tr>\n",
       "    <tr>\n",
       "      <th>1</th>\n",
       "      <td>4</td>\n",
       "      <td>2600</td>\n",
       "      <td>120.00</td>\n",
       "    </tr>\n",
       "    <tr>\n",
       "      <th>2</th>\n",
       "      <td>3</td>\n",
       "      <td>1440</td>\n",
       "      <td>62.00</td>\n",
       "    </tr>\n",
       "    <tr>\n",
       "      <th>3</th>\n",
       "      <td>3</td>\n",
       "      <td>1521</td>\n",
       "      <td>95.00</td>\n",
       "    </tr>\n",
       "    <tr>\n",
       "      <th>4</th>\n",
       "      <td>2</td>\n",
       "      <td>1200</td>\n",
       "      <td>51.00</td>\n",
       "    </tr>\n",
       "    <tr>\n",
       "      <th>5</th>\n",
       "      <td>2</td>\n",
       "      <td>1170</td>\n",
       "      <td>38.00</td>\n",
       "    </tr>\n",
       "    <tr>\n",
       "      <th>6</th>\n",
       "      <td>4</td>\n",
       "      <td>2732</td>\n",
       "      <td>204.00</td>\n",
       "    </tr>\n",
       "    <tr>\n",
       "      <th>7</th>\n",
       "      <td>4</td>\n",
       "      <td>3300</td>\n",
       "      <td>600.00</td>\n",
       "    </tr>\n",
       "    <tr>\n",
       "      <th>8</th>\n",
       "      <td>3</td>\n",
       "      <td>1310</td>\n",
       "      <td>63.25</td>\n",
       "    </tr>\n",
       "    <tr>\n",
       "      <th>9</th>\n",
       "      <td>6</td>\n",
       "      <td>1020</td>\n",
       "      <td>370.00</td>\n",
       "    </tr>\n",
       "    <tr>\n",
       "      <th>10</th>\n",
       "      <td>3</td>\n",
       "      <td>1800</td>\n",
       "      <td>70.00</td>\n",
       "    </tr>\n",
       "  </tbody>\n",
       "</table>\n",
       "</div>"
      ],
      "text/plain": [
       "    size  Area   price\n",
       "0      2  1056   39.07\n",
       "1      4  2600  120.00\n",
       "2      3  1440   62.00\n",
       "3      3  1521   95.00\n",
       "4      2  1200   51.00\n",
       "5      2  1170   38.00\n",
       "6      4  2732  204.00\n",
       "7      4  3300  600.00\n",
       "8      3  1310   63.25\n",
       "9      6  1020  370.00\n",
       "10     3  1800   70.00"
      ]
     },
     "execution_count": 38,
     "metadata": {},
     "output_type": "execute_result"
    }
   ],
   "source": [
    "df.head(11) #showing the first 11 rows of data"
   ]
  },
  {
   "cell_type": "code",
   "execution_count": 39,
   "id": "b1adf669",
   "metadata": {},
   "outputs": [
    {
     "data": {
      "text/html": [
       "<div>\n",
       "<style scoped>\n",
       "    .dataframe tbody tr th:only-of-type {\n",
       "        vertical-align: middle;\n",
       "    }\n",
       "\n",
       "    .dataframe tbody tr th {\n",
       "        vertical-align: top;\n",
       "    }\n",
       "\n",
       "    .dataframe thead th {\n",
       "        text-align: right;\n",
       "    }\n",
       "</style>\n",
       "<table border=\"1\" class=\"dataframe\">\n",
       "  <thead>\n",
       "    <tr style=\"text-align: right;\">\n",
       "      <th></th>\n",
       "      <th>size</th>\n",
       "      <th>Area</th>\n",
       "      <th>price</th>\n",
       "    </tr>\n",
       "  </thead>\n",
       "  <tbody>\n",
       "    <tr>\n",
       "      <th>26</th>\n",
       "      <td>2</td>\n",
       "      <td>660</td>\n",
       "      <td>23.10</td>\n",
       "    </tr>\n",
       "    <tr>\n",
       "      <th>19</th>\n",
       "      <td>2</td>\n",
       "      <td>1100</td>\n",
       "      <td>48.00</td>\n",
       "    </tr>\n",
       "    <tr>\n",
       "      <th>0</th>\n",
       "      <td>2</td>\n",
       "      <td>1056</td>\n",
       "      <td>39.07</td>\n",
       "    </tr>\n",
       "    <tr>\n",
       "      <th>50</th>\n",
       "      <td>2</td>\n",
       "      <td>1185</td>\n",
       "      <td>75.00</td>\n",
       "    </tr>\n",
       "    <tr>\n",
       "      <th>58</th>\n",
       "      <td>4</td>\n",
       "      <td>5700</td>\n",
       "      <td>650.00</td>\n",
       "    </tr>\n",
       "    <tr>\n",
       "      <th>36</th>\n",
       "      <td>3</td>\n",
       "      <td>1724</td>\n",
       "      <td>125.00</td>\n",
       "    </tr>\n",
       "    <tr>\n",
       "      <th>6</th>\n",
       "      <td>4</td>\n",
       "      <td>2732</td>\n",
       "      <td>204.00</td>\n",
       "    </tr>\n",
       "    <tr>\n",
       "      <th>13</th>\n",
       "      <td>2</td>\n",
       "      <td>1100</td>\n",
       "      <td>40.00</td>\n",
       "    </tr>\n",
       "    <tr>\n",
       "      <th>51</th>\n",
       "      <td>3</td>\n",
       "      <td>1600</td>\n",
       "      <td>75.00</td>\n",
       "    </tr>\n",
       "    <tr>\n",
       "      <th>45</th>\n",
       "      <td>2</td>\n",
       "      <td>800</td>\n",
       "      <td>130.00</td>\n",
       "    </tr>\n",
       "  </tbody>\n",
       "</table>\n",
       "</div>"
      ],
      "text/plain": [
       "    size  Area   price\n",
       "26     2   660   23.10\n",
       "19     2  1100   48.00\n",
       "0      2  1056   39.07\n",
       "50     2  1185   75.00\n",
       "58     4  5700  650.00\n",
       "36     3  1724  125.00\n",
       "6      4  2732  204.00\n",
       "13     2  1100   40.00\n",
       "51     3  1600   75.00\n",
       "45     2   800  130.00"
      ]
     },
     "execution_count": 39,
     "metadata": {},
     "output_type": "execute_result"
    }
   ],
   "source": [
    "df.sample(10) # display randomly a samples from the dataset\n"
   ]
  },
  {
   "cell_type": "code",
   "execution_count": 40,
   "id": "fb686004",
   "metadata": {},
   "outputs": [
    {
     "data": {
      "text/plain": [
       "array([[0.14285714, 0.10520231],\n",
       "       [0.42857143, 0.4026975 ],\n",
       "       [0.28571429, 0.17919075],\n",
       "       [0.28571429, 0.19479769],\n",
       "       [0.14285714, 0.13294798],\n",
       "       [0.14285714, 0.12716763],\n",
       "       [0.42857143, 0.42813102],\n",
       "       [0.42857143, 0.53757225],\n",
       "       [0.28571429, 0.15414258],\n",
       "       [0.71428571, 0.0982659 ],\n",
       "       [0.28571429, 0.24855491],\n",
       "       [0.42857143, 0.43834297],\n",
       "       [0.14285714, 0.09441233],\n",
       "       [0.14285714, 0.11368015],\n",
       "       [0.28571429, 0.33526012],\n",
       "       [0.14285714, 0.12813102],\n",
       "       [0.28571429, 0.12909441],\n",
       "       [0.28571429, 0.19845857],\n",
       "       [0.28571429, 0.43545279],\n",
       "       [0.14285714, 0.11368015],\n",
       "       [0.        , 0.01734104],\n",
       "       [0.28571429, 0.23988439],\n",
       "       [0.42857143, 0.44123314],\n",
       "       [0.28571429, 0.24219653],\n",
       "       [0.14285714, 0.        ],\n",
       "       [0.28571429, 0.14258189],\n",
       "       [0.14285714, 0.02890173],\n",
       "       [0.28571429, 0.21194605],\n",
       "       [0.14285714, 0.12350674],\n",
       "       [0.28571429, 0.09922929],\n",
       "       [0.28571429, 0.1088632 ],\n",
       "       [0.28571429, 0.24084778],\n",
       "       [0.28571429, 0.22793834],\n",
       "       [0.28571429, 0.27263969],\n",
       "       [0.14285714, 0.03660886],\n",
       "       [0.14285714, 0.10789981],\n",
       "       [0.28571429, 0.23391137],\n",
       "       [0.28571429, 0.15028902],\n",
       "       [0.14285714, 0.12196532],\n",
       "       [0.14285714, 0.15144509],\n",
       "       [0.28571429, 0.1433526 ],\n",
       "       [0.        , 0.01734104],\n",
       "       [0.        , 0.02890173],\n",
       "       [0.14285714, 0.08863198],\n",
       "       [0.14285714, 0.18285164],\n",
       "       [0.14285714, 0.05587669],\n",
       "       [0.14285714, 0.06917148],\n",
       "       [0.14285714, 0.14643545],\n",
       "       [0.28571429, 0.22350674],\n",
       "       [0.28571429, 0.28901734],\n",
       "       [0.14285714, 0.1300578 ],\n",
       "       [0.28571429, 0.21001927],\n",
       "       [0.14285714, 0.13294798],\n",
       "       [0.14285714, 0.19075145],\n",
       "       [0.71428571, 0.17283237],\n",
       "       [0.14285714, 0.06358382],\n",
       "       [0.28571429, 0.74855491],\n",
       "       [0.14285714, 0.06454721],\n",
       "       [0.42857143, 1.        ],\n",
       "       [0.14285714, 0.12524085],\n",
       "       [1.        , 0.47976879],\n",
       "       [0.14285714, 0.11368015],\n",
       "       [0.14285714, 0.12138728],\n",
       "       [0.14285714, 0.13680154],\n",
       "       [1.        , 0.16184971],\n",
       "       [0.14285714, 0.09537572]])"
      ]
     },
     "execution_count": 40,
     "metadata": {},
     "output_type": "execute_result"
    }
   ],
   "source": [
    "from sklearn import preprocessing\n",
    "sx = preprocessing.MinMaxScaler()\n",
    "sy = preprocessing.MinMaxScaler()\n",
    "# Using sx and sy to scale each feature to the range between 0 and 1\n",
    "\n",
    "scaled_X = sx.fit_transform(df.drop('price',axis='columns').values) #eliminate the vector price and scale each feature with respect to column \n",
    "scaled_y = sy.fit_transform(df['price'].values.reshape(df.shape[0],1)) #scale vector of price and eliminate the column of enumerating\n",
    "\n",
    "\n",
    "scaled_X\n"
   ]
  },
  {
   "cell_type": "code",
   "execution_count": 41,
   "id": "a008f0ec",
   "metadata": {},
   "outputs": [
    {
     "data": {
      "text/plain": [
       "array([[0.03790551],\n",
       "       [0.16535433],\n",
       "       [0.07401575],\n",
       "       [0.12598425],\n",
       "       [0.05669291],\n",
       "       [0.03622047],\n",
       "       [0.2976378 ],\n",
       "       [0.92125984],\n",
       "       [0.07598425],\n",
       "       [0.55905512],\n",
       "       [0.08661417],\n",
       "       [0.44094488],\n",
       "       [0.03622047],\n",
       "       [0.03937008],\n",
       "       [0.20944882],\n",
       "       [0.09212598],\n",
       "       [0.0519685 ],\n",
       "       [0.07086614],\n",
       "       [0.43307087],\n",
       "       [0.0519685 ],\n",
       "       [0.        ],\n",
       "       [0.16850394],\n",
       "       [0.57480315],\n",
       "       [0.13858268],\n",
       "       [0.01614173],\n",
       "       [0.06456693],\n",
       "       [0.01275591],\n",
       "       [0.10393701],\n",
       "       [0.0531811 ],\n",
       "       [0.0503937 ],\n",
       "       [0.03149606],\n",
       "       [0.17007874],\n",
       "       [0.06675591],\n",
       "       [0.17322835],\n",
       "       [0.03307087],\n",
       "       [0.0480315 ],\n",
       "       [0.17322835],\n",
       "       [0.06475591],\n",
       "       [0.04724409],\n",
       "       [0.10393701],\n",
       "       [0.03622047],\n",
       "       [0.03622047],\n",
       "       [0.0519685 ],\n",
       "       [0.02834646],\n",
       "       [0.12570079],\n",
       "       [0.18110236],\n",
       "       [0.03307087],\n",
       "       [0.05511811],\n",
       "       [0.13228346],\n",
       "       [0.11968504],\n",
       "       [0.09448819],\n",
       "       [0.09448819],\n",
       "       [0.04566929],\n",
       "       [0.26771654],\n",
       "       [0.21259843],\n",
       "       [0.04724409],\n",
       "       [0.35433071],\n",
       "       [0.06299213],\n",
       "       [1.        ],\n",
       "       [0.04566929],\n",
       "       [0.19685039],\n",
       "       [0.07401575],\n",
       "       [0.04409449],\n",
       "       [0.06614173],\n",
       "       [0.11023622],\n",
       "       [0.03414173]])"
      ]
     },
     "execution_count": 41,
     "metadata": {},
     "output_type": "execute_result"
    }
   ],
   "source": [
    "scaled_y"
   ]
  },
  {
   "cell_type": "code",
   "execution_count": 42,
   "id": "423388de",
   "metadata": {},
   "outputs": [
    {
     "data": {
      "text/plain": [
       "(array([0.69180115, 0.84295234]), -0.2066141961513386, 0.025046267102882897)"
      ]
     },
     "execution_count": 42,
     "metadata": {},
     "output_type": "execute_result"
    }
   ],
   "source": [
    "def batch_gradient_descent(X, y_true, epochs, learning_rate = 0.01):\n",
    "\n",
    "    number_of_features = X.shape[1]\n",
    "    # numpy array with 1 row and columns equal to number of features. In \n",
    "    # our case number_of_features = 2 (area, bedroom)\n",
    "    w = np.ones(shape=(number_of_features)) \n",
    "    b = 0\n",
    "    total_samples = X.shape[0] # number of rows in X\n",
    "    \n",
    "    cost_list = [] # intialization of a list\n",
    "    epoch_list = []\n",
    "    \n",
    "    for i in range(epochs):        \n",
    "        y_predicted = np.dot(w, X.T) + b # linear regression's model\n",
    "\n",
    "        w_grad = -(2/total_samples)*(X.T.dot(y_true-y_predicted)) \n",
    "        b_grad = -(2/total_samples)*np.sum(y_true-y_predicted)\n",
    "        \n",
    "        w = w - learning_rate * w_grad\n",
    "        b = b - learning_rate * b_grad\n",
    "        \n",
    "        cost = np.mean(np.square(y_true-y_predicted)) # MSE (Mean Squared Error)\n",
    "        \n",
    "        if i%10==0:\n",
    "            cost_list.append(cost)\n",
    "            epoch_list.append(i)\n",
    "        \n",
    "    return w, b, cost, cost_list, epoch_list\n",
    "\n",
    "w, b, cost, cost_list, epoch_list = batch_gradient_descent(scaled_X,scaled_y.reshape(scaled_y.shape[0],),500)\n",
    "\n",
    "w, b, cost\n",
    "\n"
   ]
  },
  {
   "cell_type": "code",
   "execution_count": 43,
   "id": "edc40153",
   "metadata": {},
   "outputs": [
    {
     "data": {
      "text/plain": [
       "array([0.03790551, 0.16535433, 0.07401575, 0.12598425, 0.05669291,\n",
       "       0.03622047, 0.2976378 , 0.92125984, 0.07598425, 0.55905512,\n",
       "       0.08661417, 0.44094488, 0.03622047, 0.03937008, 0.20944882,\n",
       "       0.09212598, 0.0519685 , 0.07086614, 0.43307087, 0.0519685 ,\n",
       "       0.        , 0.16850394, 0.57480315, 0.13858268, 0.01614173,\n",
       "       0.06456693, 0.01275591, 0.10393701, 0.0531811 , 0.0503937 ,\n",
       "       0.03149606, 0.17007874, 0.06675591, 0.17322835, 0.03307087,\n",
       "       0.0480315 , 0.17322835, 0.06475591, 0.04724409, 0.10393701,\n",
       "       0.03622047, 0.03622047, 0.0519685 , 0.02834646, 0.12570079,\n",
       "       0.18110236, 0.03307087, 0.05511811, 0.13228346, 0.11968504,\n",
       "       0.09448819, 0.09448819, 0.04566929, 0.26771654, 0.21259843,\n",
       "       0.04724409, 0.35433071, 0.06299213, 1.        , 0.04566929,\n",
       "       0.19685039, 0.07401575, 0.04409449, 0.06614173, 0.11023622,\n",
       "       0.03414173])"
      ]
     },
     "execution_count": 43,
     "metadata": {},
     "output_type": "execute_result"
    }
   ],
   "source": [
    "scaled_y.reshape(66,)"
   ]
  },
  {
   "cell_type": "code",
   "execution_count": 44,
   "id": "b2f5dd96",
   "metadata": {},
   "outputs": [
    {
     "data": {
      "text/plain": [
       "0.450766055394613"
      ]
     },
     "execution_count": 44,
     "metadata": {},
     "output_type": "execute_result"
    }
   ],
   "source": [
    "def predict(bedrooms,area,w,b):\n",
    "    scaled_X = sx.transform([[bedrooms, area]])[0]\n",
    "    # here w1 = w[0] , w2 = w[1] and bias is b\n",
    "    # equation for price is w1*bedrooms + w2*area + bias\n",
    "    # scaled_X[0] is number of bedrooms (size)\n",
    "    # scaled_X[1] is area\n",
    "    scaled_price = w[0] * scaled_X[0] + w[1] * scaled_X[1] + b\n",
    "    # once we get price prediction we need to rescal it back to original value\n",
    "    return scaled_price\n",
    "\n",
    "predict(4,2732,w,b) #test the prediction\n"
   ]
  },
  {
   "cell_type": "code",
   "execution_count": 45,
   "id": "6a761659",
   "metadata": {},
   "outputs": [
    {
     "data": {
      "text/plain": [
       "(array([0.69180115, 0.84295234]), -0.2066141961513386, 0.025046267102882897)"
      ]
     },
     "execution_count": 45,
     "metadata": {},
     "output_type": "execute_result"
    }
   ],
   "source": [
    "w, b, cost, cost_list, epoch_list = batch_gradient_descent(scaled_X,scaled_y.reshape(scaled_y.shape[0],),500,0.01)\n",
    "w, b, cost"
   ]
  },
  {
   "cell_type": "code",
   "execution_count": 46,
   "id": "c913ae59",
   "metadata": {},
   "outputs": [
    {
     "data": {
      "text/plain": [
       "[<matplotlib.lines.Line2D at 0x20938169b20>]"
      ]
     },
     "execution_count": 46,
     "metadata": {},
     "output_type": "execute_result"
    },
    {
     "data": {
      "image/png": "[encoded data removed]",
      "text/plain": [
       "<Figure size 432x288 with 1 Axes>"
      ]
     },
     "metadata": {
      "needs_background": "light"
     },
     "output_type": "display_data"
    }
   ],
   "source": [
    "plt.xlabel(\"epoch\")\n",
    "plt.ylabel(\"cost\")\n",
    "plt.plot(epoch_list,cost_list)"
   ]
  },
  {
   "cell_type": "code",
   "execution_count": 47,
   "id": "e8c132d6",
   "metadata": {},
   "outputs": [
    {
     "data": {
      "text/plain": [
       "1"
      ]
     },
     "execution_count": 47,
     "metadata": {},
     "output_type": "execute_result"
    }
   ],
   "source": [
    "import random\n",
    "random.randint(0,6)\n",
    "    \n"
   ]
  },
  {
   "cell_type": "code",
   "execution_count": 48,
   "id": "b93d6a4f",
   "metadata": {},
   "outputs": [
    {
     "data": {
      "text/plain": [
       "(array([0.85205837, 0.90645047]), -0.24970318894257088, 0.0038518110202068285)"
      ]
     },
     "execution_count": 48,
     "metadata": {},
     "output_type": "execute_result"
    }
   ],
   "source": [
    "def stochastic_gradient_descent(X, y_true, epochs, learning_rate = 0.01):\n",
    " \n",
    "    number_of_features = X.shape[1]\n",
    "    # numpy array with 1 row and columns equal to number of features. In \n",
    "    # our case number_of_features = 2 (area, bedrooms )\n",
    "    w = np.ones(shape=(number_of_features)) \n",
    "    b = 0\n",
    "    total_samples = X.shape[0]\n",
    "    \n",
    "    cost_list = []\n",
    "    epoch_list = []\n",
    "    \n",
    "    for i in range(epochs):    \n",
    "        random_index = random.randint(0,total_samples-1) # random index from total samples\n",
    "        sample_x = X[random_index]\n",
    "        sample_y = y_true[random_index]\n",
    "        \n",
    "        y_predicted = np.dot(w, sample_x.T) + b\n",
    "    \n",
    "        w_grad = -(2/total_samples)*(sample_x.T.dot(sample_y-y_predicted))\n",
    "        b_grad = -(2/total_samples)*(sample_y-y_predicted)\n",
    "        \n",
    "        w = w - learning_rate * w_grad\n",
    "        b = b - learning_rate * b_grad\n",
    "        \n",
    "        cost = np.square(sample_y-y_predicted)\n",
    "        \n",
    "        if i%100==0: # at every 100th iteration record the cost and epoch value\n",
    "            cost_list.append(cost)\n",
    "            epoch_list.append(i)\n",
    "        \n",
    "    return w, b, cost, cost_list, epoch_list\n",
    "\n",
    "w_sgd, b_sgd, cost_sgd, cost_list_sgd, epoch_list_sgd = stochastic_gradient_descent(scaled_X,scaled_y.reshape(scaled_y.shape[0],),10000)\n",
    "w_sgd, b_sgd, cost_sgd\n"
   ]
  },
  {
   "cell_type": "code",
   "execution_count": 51,
   "id": "83e394d4",
   "metadata": {},
   "outputs": [
    {
     "data": {
      "text/plain": [
       "[<matplotlib.lines.Line2D at 0x20938234f10>]"
      ]
     },
     "execution_count": 51,
     "metadata": {},
     "output_type": "execute_result"
    },
    {
     "data": {
      "image/png": "[encoded data removed]",
      "text/plain": [
       "<Figure size 432x288 with 1 Axes>"
      ]
     },
     "metadata": {
      "needs_background": "light"
     },
     "output_type": "display_data"
    }
   ],
   "source": [
    "plt.xlabel(\"epoch\")\n",
    "plt.ylabel(\"cost\")\n",
    "plt.plot(epoch_list_sgd,cost_list_sgd)"
   ]
  },
  {
   "cell_type": "code",
   "execution_count": 52,
   "id": "65a6d6ed",
   "metadata": {},
   "outputs": [
    {
     "data": {
      "text/plain": [
       "0.5035442514970534"
      ]
     },
     "execution_count": 52,
     "metadata": {},
     "output_type": "execute_result"
    }
   ],
   "source": [
    "predict(4,2732,w_sgd, b_sgd) #test prediction"
   ]
  },
  {
   "cell_type": "code",
   "execution_count": null,
   "id": "5c220e38",
   "metadata": {},
   "outputs": [],
   "source": []
  }
 ],
 "metadata": {
  "kernelspec": {
   "display_name": "Python 3 (ipykernel)",
   "language": "python",
   "name": "python3"
  },
  "language_info": {
   "codemirror_mode": {
    "name": "ipython",
    "version": 3
   },
   "file_extension": ".py",
   "mimetype": "text/x-python",
   "name": "python",
   "nbconvert_exporter": "python",
   "pygments_lexer": "ipython3",
   "version": "3.9.12"
  }
 },
 "nbformat": 4,
 "nbformat_minor": 5
}
